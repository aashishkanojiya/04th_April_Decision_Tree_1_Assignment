{
  "nbformat": 4,
  "nbformat_minor": 0,
  "metadata": {
    "colab": {
      "provenance": []
    },
    "kernelspec": {
      "name": "python3",
      "display_name": "Python 3"
    },
    "language_info": {
      "name": "python"
    }
  },
  "cells": [
    {
      "cell_type": "markdown",
      "source": [
        "Q1. Describe the decision tree classifier algorithm and how it works to make predictions."
      ],
      "metadata": {
        "id": "dKo1FnPsxefg"
      }
    },
    {
      "cell_type": "markdown",
      "source": [
        "Answer:-\n",
        "\n",
        "A Decision Tree Classifier is a supervised machine learning algorithm used for both classification and regression tasks. It creates a tree-like structure that helps make decisions based on data. Each internal node in the tree represents a decision based on a feature, while each leaf node represents the final outcome, such as a class label (for classification) or a predicted value (for regression).\n",
        "\n",
        "How It Works\n",
        "\n",
        "1.Dataset Splitting:\n",
        "\n",
        "(i)The process begins with the entire dataset at the root of the tree.\n",
        "\n",
        "(ii)The algorithm selects the feature that best splits the data into subsets. This selection is based on criteria like Gini impurity, entropy, or mean squared error (for regression).\n",
        "\n",
        "(iii)The chosen feature and its split point create child nodes connected to the root.\n",
        "\n",
        "2.Recursive Splitting:\n",
        "\n",
        "(i)The algorithm continues to split each child node by selecting the best feature for that node, using the same criteria.\n",
        "\n",
        "(ii)This recursive process continues until a stopping condition is met, such as:\n",
        "\n",
        "Reaching a maximum tree depth.\n",
        "\n",
        "Having a minimum number of samples in a leaf node.\n",
        "\n",
        "Achieving a minimum level of purity in the node.\n",
        "\n",
        "3.Leaf Node Assignment:\n",
        "\n",
        "(i)When a stopping condition is met, the node becomes a leaf node.\n",
        "\n",
        "(ii)In a classification tree, each leaf node is assigned a class label, typically the majority class of the samples in that leaf.\n",
        "\n",
        "(iii)In a regression tree, each leaf node represents a predicted value, usually the average of the target values in that leaf.\n",
        "\n",
        "4.Making Predictions:\n",
        "\n",
        "(i)To predict the outcome for a new data point, the algorithm starts at the root and traverses the tree down to a leaf node.\n",
        "\n",
        "(ii)At each internal node, it evaluates the relevant feature and decides which child node to follow based on the feature's value for the new data point.\n",
        "\n",
        "(iii)This process continues until it reaches a leaf node, where the class label (for classification) or predicted value (for regression) is used as the final prediction.\n",
        "\n",
        "Key Points About Decision Trees\n",
        "\n",
        "1.Interpretable: Decision trees are easy to understand, making it clear how decisions are made.\n",
        "\n",
        "2.Handles Different Data Types: They can work with both categorical and numerical features.\n",
        "\n",
        "3.Captures Non-Linear Relationships: Decision trees can model complex relationships in the data.\n",
        "\n",
        "4.Prone to Overfitting: If the tree becomes too deep, it may fit the training data too closely. Techniques like pruning or limiting tree depth can help prevent this.\n",
        "\n",
        "5.Impact of Splitting Criteria: The choice of splitting criteria can affect the tree's performance and behavior.\n",
        "\n",
        "Summary\n",
        "\n",
        "In summary, Decision Tree Classifiers use a tree structure to make predictions by recursively splitting the dataset based on the most informative features. They assign class labels to leaf nodes, making them a powerful and interpretable tool for classification tasks."
      ],
      "metadata": {
        "id": "FU7AJbKVxgB4"
      }
    },
    {
      "cell_type": "markdown",
      "source": [
        "Q2. Provide a step-by-step explanation of the mathematical intuition behind decision tree classification."
      ],
      "metadata": {
        "id": "zEZatfsUhTDi"
      }
    },
    {
      "cell_type": "markdown",
      "source": [
        "Answer:-\n",
        "\n",
        "Sure, here is a step-by-step explanation of the mathematical intuition behind\n",
        "\n",
        "1.decision tree classification:\n",
        "Define the Problem: We start with defining the classification problem, which involves predicting the class labels of a set of input data points based on a set of features.\n",
        "\n",
        "2.Entropy: The first step in building a decision tree is to calculate the entropy of the dataset, which is a measure of the amount of uncertainty or randomness in the data. The entropy is defined as:\n",
        "\n",
        "entropy = -Σ(p_i * log2(p_i))\n",
        "\n",
        "where p_i is the probability of an instance belonging to class i.\n",
        "\n",
        "The entropy is maximum when the classes are equally distributed and minimum when all the instances belong to a single class.\n",
        "\n",
        "3.Information Gain: Next, we calculate the information gain of each feature, which measures how much the feature contributes to reducing the entropy. The information gain is defined as:\n",
        "\n",
        "information_gain = entropy(parent) - Σ((n_i / n) * entropy(child_i))\n",
        "\n",
        "where parent is the entropy of the parent node, child_i is the entropy of the\n",
        "i-th child node, and n_i and n are the number of instances in the i-th child node and the parent node, respectively.\n",
        "\n",
        "The feature with the highest information gain is selected as the splitting feature.\n",
        "\n",
        "4.Splitting: We split the dataset based on the selected feature and repeat steps 2-3 for each child node until we reach a stopping criterion.\n",
        "\n",
        "5.Stopping Criterion: The stopping criterion can be based on the maximum depth of the tree, the minimum number of instances in a leaf node, or other measures of model complexity.\n",
        "\n",
        "6.Classification: To classify a new instance, we start at the root node of the tree and follow the path down the tree based on the values of the features until we reach a leaf node. The class label of the leaf node is then assigned to the instance.\n",
        "\n",
        "In summary, decision tree classification involves recursively splitting the dataset based on the features with the highest information gain until a stopping criterion is met. The classification is based on traversing the tree and assigning the class label of the leaf node to the instance.\n",
        "\n"
      ],
      "metadata": {
        "id": "0yBgrEKHhTYV"
      }
    },
    {
      "cell_type": "markdown",
      "source": [
        "Q3. Explain how a decision tree classifier can be used to solve a binary classification problem."
      ],
      "metadata": {
        "id": "8V9OTkkJjbVC"
      }
    },
    {
      "cell_type": "markdown",
      "source": [
        "Answer:-\n",
        "\n",
        "A Decision Tree Classifier is a powerful method for tackling binary classification problems, where the goal is to categorize data into one of two classes. Here’s a straightforward guide on how to use a decision tree for this purpose:\n",
        "\n",
        "Step 1: Gather Your Data\n",
        "Collect a Labeled Dataset: Start by assembling a dataset that includes input features (the variables you want to analyze) along with their corresponding binary class labels (the outcomes you want to predict, such as \"Yes\" or \"No\").\n",
        "\n",
        "Step 2: Prepare the Data\n",
        "Data Preprocessing: Clean and prepare your dataset by:\n",
        "Addressing any missing values (you can fill them in or remove incomplete entries).\n",
        "\n",
        "Converting categorical variables into numerical formats (for example, using techniques like one-hot encoding).\n",
        "\n",
        "Scaling the features if necessary, especially if they are on different scales.\n",
        "\n",
        "Step 3: Build the Decision Tree\n",
        "\n",
        "Construct the Tree: Create the decision tree by:\n",
        "\n",
        "Recursively splitting the dataset based on the feature that offers the most significant information gain (or using another criterion for splitting).\n",
        "\n",
        "Each split divides the data into two branches, one for each class, continuing this process until you reach a stopping point. This could be when the tree reaches a certain depth, when a node has too few samples, or when the nodes are pure (meaning all instances in a node belong to the same class).\n",
        "\n",
        "Step 4: Evaluate the Model\n",
        "\n",
        "Assess Performance: Check how well your decision tree classifier performs using a validation dataset or through cross-validation. Common metrics to evaluate include:\n",
        "\n",
        "Accuracy: The percentage of correctly classified instances.\n",
        "\n",
        "Precision: The ratio of true positive predictions to the total predicted positives.\n",
        "\n",
        "Recall: The ratio of true positive predictions to the actual positives.\n",
        "\n",
        "F1-Score: A balance between precision and recall, providing a single metric to evaluate performance.\n",
        "\n",
        "ROC-AUC: A measure of how well the model distinguishes between the two classes.\n",
        "\n",
        "Step 5: Fine-Tune the Model\n",
        "\n",
        "Optimize Hyperparameters: Adjust the decision tree's hyperparameters to enhance its performance. Important parameters to consider include:\n",
        "\n",
        "Maximum Depth: This limits how deep the tree can grow.\n",
        "\n",
        "Minimum Samples to Split: The minimum number of samples needed to make a split at a node.\n",
        "\n",
        "Splitting Criterion: The method used to determine the quality of a split (like Gini impurity or entropy).\n",
        "\n",
        "Step 6: Make Predictions\n",
        "\n",
        "Predict New Instances: Use the trained decision tree classifier to predict the class labels for new, unlabeled data. This involves:\n",
        "\n",
        "Navigating through the tree based on the values of the input features.\n",
        "Following the branches until you reach a leaf node, where the class label of that leaf node is assigned to the new data point.\n",
        "\n",
        "Conclusion\n",
        "\n",
        "In summary, a Decision Tree Classifier is an effective way to solve binary classification problems by systematically splitting the feature space into two regions, each corresponding to one of the two classes. After building and evaluating the tree, you can use it to predict the class labels of new, unlabeled data based on the decision rules learned from the training dataset. This makes decision trees a valuable and interpretable tool for classification tasks."
      ],
      "metadata": {
        "id": "T8yBnCwDjcBo"
      }
    },
    {
      "cell_type": "markdown",
      "source": [
        "Below is python code for making decision tree:"
      ],
      "metadata": {
        "id": "wvi50GwblMPd"
      }
    },
    {
      "cell_type": "code",
      "source": [
        "from sklearn.datasets import make_classification\n",
        "from sklearn.tree import DecisionTreeClassifier\n",
        "from sklearn.model_selection import train_test_split\n",
        "from sklearn.metrics import accuracy_score\n",
        "\n",
        "# generate binary classification dataset with 1000 samples, 10 features, and 2 classes\n",
        "X, y = make_classification(n_samples=1000, n_features=10, n_classes=2, random_state=42)\n",
        "\n",
        "# split the dataset into training and testing sets\n",
        "X_train, X_test, y_train, y_test = train_test_split(X, y, test_size=0.2, random_state=42)\n",
        "\n",
        "# create a decision tree classifier with default hyperparameters\n",
        "clf = DecisionTreeClassifier(random_state=42)\n",
        "\n",
        "# train the classifier on the training set\n",
        "clf.fit(X_train, y_train)\n",
        "\n",
        "# make predictions on the testing set\n",
        "y_pred_test = clf.predict(X_test)\n",
        "y_pred_train = clf.predict(X_train)\n",
        "\n",
        "# evaluate the performance of the classifier using accuracy\n",
        "train_acc = accuracy_score(y_train,y_pred_train)\n",
        "test_acc = accuracy_score(y_test, y_pred_test)\n",
        "\n",
        "print(\"Training Accuracy : {:.2f}%\".format(train_acc*100))\n",
        "print(\"Testing Accuracy: {:.2f}%\".format(test_acc * 100))"
      ],
      "metadata": {
        "colab": {
          "base_uri": "https://localhost:8080/"
        },
        "id": "AgNiqhlGlMsq",
        "outputId": "09614ead-37c9-4764-8bf9-312a6614e40b"
      },
      "execution_count": null,
      "outputs": [
        {
          "output_type": "stream",
          "name": "stdout",
          "text": [
            "Training Accuracy : 100.00%\n",
            "Testing Accuracy: 84.00%\n"
          ]
        }
      ]
    },
    {
      "cell_type": "markdown",
      "source": [
        "Q4. Discuss the geometric intuition behind decision tree classification and how it can be used to make\n",
        "predictions."
      ],
      "metadata": {
        "id": "-zkTcbTplTpF"
      }
    },
    {
      "cell_type": "markdown",
      "source": [
        "Answer:-\n",
        "\n",
        "Understanding Decision Tree Classification: A Geometric Perspective\n",
        "\n",
        "Decision trees are a widely used method for classification tasks in machine learning. To grasp how they work, it helps to think about them in geometric terms. Here’s a breakdown of the geometric intuition behind decision tree classification and how it’s used to make predictions.\n",
        "\n",
        "1.Dividing the Feature Space\n",
        "At the heart of decision tree classification is the idea of dividing the feature space into different regions. Each region corresponds to a specific class label. Here’s how this works:\n",
        "\n",
        "Multi-Dimensional Space: Imagine a space where each axis represents a different feature of your data. For example, in a two-dimensional space, one axis could represent \"Feature A\" and the other \"Feature B.\"\n",
        "\n",
        "Creating Splits: The decision tree makes splits in this space based on the features. For instance, if a decision rule states \"Feature A ≤ 5,\" it creates a vertical line at 5 on the Feature A axis, dividing the space into two parts: one where Feature A is less than or equal to 5 and another where it is greater than 5.\n",
        "\n",
        "Recursive Splitting: This splitting process continues recursively. Each new split further divides the regions created by previous splits. As a result, the feature space is broken down into smaller and smaller areas, each associated with a class label.\n",
        "\n",
        "2.Regions and Class Labels\n",
        "\n",
        "Leaf Nodes: Eventually, the recursive splitting leads to leaf nodes, which are the end points of the tree. Each leaf node represents a specific region of the feature space and is assigned a class label based on the majority class of the training samples that fall into that region.\n",
        "\n",
        "Geometric View: Geometrically, each leaf node corresponds to a shape (like a polygon in two dimensions) in the feature space. The size and shape of these regions depend on how the tree splits the data. This allows decision trees to capture complex patterns in the data.\n",
        "\n",
        "3.Making Predictions\n",
        "When it comes to making predictions with a decision tree, the process can be visualized like this:\n",
        "\n",
        "Navigating the Tree: For a new data point (an instance with specific feature values), you start at the root of the tree and evaluate the decision rules at each node. Depending on the feature values of the instance, you follow the appropriate branches down the tree.\n",
        "\n",
        "Reaching a Leaf Node: You continue this process until you reach a leaf node. The class label assigned to that leaf node is the predicted class for the new instance.\n",
        "\n",
        "Geometric Interpretation of Predictions: Think of the new data point as a point in the feature space. The path you take through the tree corresponds to the region of the feature space that the point falls into. The class label of the leaf node indicates which class the point belongs to, based on the majority class of the training samples in that region.\n",
        "\n",
        "Conclusion\n",
        "\n",
        "In summary, the geometric intuition behind decision tree classification revolves around dividing the feature space into distinct regions, each linked to a class label. By recursively splitting the space based on feature values, decision trees create a structure that allows for clear and interpretable predictions. When a new instance is introduced, the decision tree identifies which region of the feature space it belongs to, leading to a class label prediction based on the majority class in that area. This geometric perspective highlights the flexibility and effectiveness of decision trees in handling complex classification tasks.\n"
      ],
      "metadata": {
        "id": "eAUxaLl2lUFQ"
      }
    },
    {
      "cell_type": "markdown",
      "source": [
        "Q5. Define the confusion matrix and describe how it can be used to evaluate the performance of a\n",
        "classification model."
      ],
      "metadata": {
        "id": "TihvufRSnDXJ"
      }
    },
    {
      "cell_type": "markdown",
      "source": [
        "Answer:-\n",
        "\n",
        "A confusion matrix is a table that is often used to evaluate the performance of a classification model. The matrix provides a summary of the predictions made by a classification model, by comparing the predicted classes with the actual or true classes.\n",
        "\n",
        "The confusion matrix typically has four components: true positives (TP), false positives (FP), true negatives (TN), and false negatives (FN). The true positives and true negatives represent the cases where the model predicted the class correctly, while the false positives and false negatives represent the cases where the model predicted the wrong class.\n",
        "\n",
        "The confusion matrix can be used to calculate a variety of performance metrics such as accuracy, precision, recall, F1 score, and the area under the receiver operating characteristic curve (ROC AUC).\n",
        "\n",
        "For example, accuracy is the proportion of correct predictions over the total number of predictions, and is calculated as (TP + TN) / (TP + TN + FP + FN). Precision is the proportion of true positives over the total number of positive predictions, and is calculated as TP / (TP + FP). Recall is the proportion of true positives over the total number of actual positives, and is calculated as TP / (TP + FN). The F1 score is a harmonic mean of precision and recall, and is calculated as 2 * (precision * recall) / (precision + recall).\n",
        "\n",
        "By analyzing the confusion matrix and calculating the performance metrics, we can gain insights into the strengths and weaknesses of the classification model, and make improvements to enhance its performance."
      ],
      "metadata": {
        "id": "I9QCkVmsnELo"
      }
    },
    {
      "cell_type": "markdown",
      "source": [
        "Q6. Provide an example of a confusion matrix and explain how precision, recall, and F1 score can be\n",
        "calculated from it."
      ],
      "metadata": {
        "id": "WtuxmaxLre7Z"
      }
    },
    {
      "cell_type": "markdown",
      "source": [
        "Answer:-\n",
        "\n",
        "Suppose we're predicting whether an email is \"Spam\" or \"Not Spam.\" Here's a simple confusion matrix:\n",
        "\n",
        "![Screenshot 2024-12-03 001153.png](data:image/png;base64,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)\n",
        "\n",
        "Understanding the Confusion Matrix\n",
        "\n",
        "True Positives (TP): Emails correctly identified as spam. (50)\n",
        "\n",
        "True Negatives (TN): Emails correctly identified as not spam. (100)\n",
        "\n",
        "False Positives (FP): Emails incorrectly identified as spam (they are actually\n",
        "not spam)\n",
        "\n",
        "False Negatives (FN): Emails incorrectly identified as not spam (they are actually spam)\n",
        "\n",
        "Calculating Precision, Recall, and F1 Score\n",
        "\n",
        "1.Precision:-\n",
        "\n",
        "Precision tells us how many of the emails predicted as spam were actually spam.\n",
        "\n",
        "Formula:-\n",
        "\n",
        "Precision\n",
        " =\n",
        "𝑇\n",
        "𝑃\n",
        "/\n",
        "𝑇\n",
        "𝑃\n",
        "+\n",
        "𝐹\n",
        "\n",
        "Calculation:\n",
        "\n",
        "Precision = 50 / 50 + 5\n",
        "          \n",
        "          =50 / 55  = 0.91\n",
        "\n",
        "2.Recall (Sensitivity or True Positive Rate)\n",
        "\n",
        "Recall tells us how many of the actual spam emails were correctly identified.\n",
        "\n",
        "Formula:\n",
        "\n",
        "Recall = TP / TP + FN\n",
        "\n",
        "Calculation:\n",
        "\n",
        "Recall = 50 / 50 + 10\n",
        "\n",
        "       = 50 / 60 = 0.83\n",
        "\n",
        "3.F1\n",
        "\n",
        "The F1 score is the harmonic mean of precision and recall. It provides a balance between the two metrics.\n",
        "\n",
        "Formula:\n",
        "\n",
        "F1 Score = 2 X Precision X Recall / Precision + Recall\n",
        "\n",
        "Calculation:\n",
        "\n",
        "F1 Score = 2 X 0.91 X 0.83 / 0.91 + 0.83 = 0.87\n",
        "\n",
        "Summary\n",
        "\n",
        "Precision: Measures the accuracy of the positive predictions (spam).\n",
        "\n",
        "Recall: Measures the ability to identify actual positive cases (spam).\n",
        "\n",
        "F1 Score: Balances precision and recall to give a single performance metric.\n",
        "\n",
        "By using these metrics, we can better understand and improve the performance of our classification models.\n",
        "\n",
        "\n"
      ],
      "metadata": {
        "id": "qe84H3oyrjD5"
      }
    },
    {
      "cell_type": "markdown",
      "source": [
        "Q7. Discuss the importance of choosing an appropriate evaluation metric for a classification problem and\n",
        "explain how this can be done."
      ],
      "metadata": {
        "id": "_ru01c1KvLN6"
      }
    },
    {
      "cell_type": "markdown",
      "source": [
        "Answer:-\n",
        "\n",
        "Choosing an appropriate evaluation metric for a classification problem is crucial because it helps you assess the performance of your model in a way that aligns with the specific goals and requirements of your application. Different metrics focus on different aspects of classification performance, and selecting the right one depends on the nature of the problem, the class distribution, and the relative importance of false positives and false negatives.\n",
        "\n",
        "How to Choose an Appropriate Metric:-\n",
        "\n",
        "1.Understand the Problem: First, gain a deep understanding of the problem you are solving. Know the consequences and costs associated with false positives and false negatives.\n",
        "\n",
        "2.Analyze the Class Distribution: Examine the distribution of your classes. Determine if the dataset is balanced or imbalanced.\n",
        "\n",
        "3.Set Clear Objectives: Clearly define your goals and what you aim to optimize for (e.g., minimizing false negatives or maximizing precision).\n",
        "\n",
        "4.Consult with Stakeholders: Collaborate with domain experts and stakeholders to ensure alignment between the metric choice and the business or application's requirements.\n",
        "\n",
        "5.Experiment and Compare: Experiment with different metrics during model development. Evaluate the model's performance using various metrics and thresholds. Choose the metric that best aligns with your goals and requirements.\n",
        "\n",
        "6.Consider Multiple Metrics: It's often beneficial to consider multiple metrics, especially when the problem is complex or has multiple aspects to evaluate. For example, you can use a combination of precision, recall, and F1 score to get a comprehensive view of performance.\n",
        "\n",
        "Here's why choosing the right evaluation metric is important and how you can do it:\n",
        "\n",
        "1.Reflecting Real-World Goals: Different classification problems have different goals. For example, in a medical diagnosis task, the cost of missing a positive case (false negative) might be significantly higher than incorrectly classifying a negative case as positive (false positive). In such cases, you'd prioritize recall over precision. Conversely, in spam email detection, precision might be more critical to avoid false positives.\n",
        "\n",
        "2.Handling Class Imbalance: When dealing with imbalanced datasets, where one class significantly outnumbers the other, accuracy alone can be misleading. Choosing an appropriate metric like precision, recall, F1 score, or the area under the ROC curve (AUC-ROC) can provide a more informative assessment of your model's performance.\n",
        "\n",
        "3.Avoiding Over-Optimization: Some metrics, like accuracy, can lead to over-optimization when the class distribution is highly imbalanced. A model might predict the majority class for all samples, achieving high accuracy but failing to address the minority class. In such cases, using metrics that account for false negatives (e.g., recall or F1 score) is essential.\n",
        "\n",
        "4.Balancing Trade-Offs: Different metrics balance the trade-offs between precision and recall differently. Precision focuses on minimizing false positives, while recall aims to minimize false negatives. The F1 score provides a balance between the two, making it useful when you want a single metric that considers both aspects.\n",
        "\n",
        "5.Business or Domain Requirements: The choice of metric should align with the specific requirements of your business or domain. For instance, in a credit scoring model, a bank may have different thresholds for accepting or rejecting loan applications, and these thresholds can be adjusted based on the business's risk tolerance.\n",
        "\n",
        "6.Visualization and Reporting: Depending on your audience and reporting needs, you may prefer certain metrics for ease of communication. For instance, ROC curves and precision-recall curves can be valuable for visually comparing models' performance across different thresholds.\n",
        "\n",
        "In summary, choosing an appropriate evaluation metric for a classification problem is a critical step in model development. It should be driven by a deep understanding of the problem, the business or domain requirements, and the class distribution. By selecting the right metric, you can effectively assess your model's performance and make informed decisions about model improvement and deployment."
      ],
      "metadata": {
        "id": "PsRxwthHvQYU"
      }
    },
    {
      "cell_type": "markdown",
      "source": [
        "Q8. Provide an example of a classification problem where precision is the most important metric, and\n",
        "explain why."
      ],
      "metadata": {
        "id": "hHsgxYL9wPTy"
      }
    },
    {
      "cell_type": "markdown",
      "source": [
        "Answer:-\n",
        "\n",
        "Example of a Classification Problem Where Precision is the Most Important Metric\n",
        "Context: Fraud Detection in Financial Transactions\n",
        "\n",
        "Let’s consider a bank that uses a machine learning model to detect fraudulent transactions. The model analyzes various features of each transaction—like the amount, location, and transaction history—to classify it as either \"fraudulent\" or \"legitimate.\"\n",
        "\n",
        "Why Precision Matters\n",
        "\n",
        "1.Cost of False Positives: In this scenario, a false positive happens when a legitimate transaction is mistakenly flagged as fraudulent. This can lead to several issues:\n",
        "\n",
        ".Customer Experience: If a customer’s valid transaction is declined or marked as suspicious, it can cause frustration and dissatisfaction. This may lead to a loss of trust in the bank.\n",
        "\n",
        "iii.Operational Costs: When a transaction is flagged, the bank has to investigate it. This requires time and resources, which can increase operational costs.\n",
        "Reputation: If customers frequently experience false alarms, it can harm the bank's reputation, leading to customer loss and negative publicity.\n",
        "Importance of True Positives: While it’s also crucial to catch as many fraudulent transactions as possible (which relates to recall), the bank prioritizes precision. This means that when a transaction is flagged as fraudulent, it should be a true case of fraud. High precision ensures that the model is reliable, reducing the chances of incorrectly identifying legitimate transactions.\n",
        "\n",
        "Business Strategy: The bank may focus on customer satisfaction and retention. By minimizing false positives, it can maintain a positive relationship with customers while still managing the risk of fraud effectively.\n",
        "\n",
        "Conclusion\n",
        "\n",
        "In this fraud detection example, precision is vital because the cost of wrongly identifying legitimate transactions as fraudulent is high. The bank needs to ensure that when it flags a transaction, it is making the right call. Therefore, focusing on precision helps the bank strike a balance between security and maintaining customer trust.\n",
        "\n",
        "In summary, in situations where the consequences of false positives are significant, precision becomes the key metric for evaluating model performance and making informed decisions"
      ],
      "metadata": {
        "id": "A4pj1aYmwPsj"
      }
    },
    {
      "cell_type": "markdown",
      "source": [
        "Q9. Provide an example of a classification problem where recall is the most important metric, and explain\n",
        "why."
      ],
      "metadata": {
        "id": "rKckK9w0lflv"
      }
    },
    {
      "cell_type": "markdown",
      "source": [
        "Answer:-\n",
        "\n",
        "Let's consider a real-world example where recall is the most important metric: Fraud Detection in Credit Card Transactions.\n",
        "\n",
        "Scenario: In the context of credit card fraud detection, recall (sensitivity or true positive rate) is often the most important metric.\n",
        "Recall = TP / (TP + FN)\n",
        "\n",
        "Importance of Recall:\n",
        "\n",
        "1.Detecting True Positive Cases: The primary goal in credit card fraud detection is to identify and prevent fraudulent transactions. Missing a true positive case (a fraudulent transaction) can result in significant financial losses for both the cardholder and the issuing bank.\n",
        "\n",
        "2.Minimizing False Negatives: False negatives occur when the fraud detection system fails to identify a transaction as fraudulent when it's actually fraudulent. Missing a fraudulent transaction can lead to unauthorized charges, financial disputes, and potential harm to the cardholder.\n",
        "\n",
        "3.Customer Trust and Protection: High recall is essential to build and maintain trust with cardholders. Customers expect their credit card providers to promptly detect and prevent fraud, and missing fraudulent transactions can erode that trust.\n",
        "\n",
        "4.Regulatory Compliance: In many regions, financial institutions are subject to regulatory requirements that mandate effective fraud detection and prevention. High recall is often a regulatory requirement to ensure customer protection.\n",
        "\n",
        "Metric Optimization: To prioritize recall in credit card fraud detection:\n",
        "\n",
        "1.Machine learning models or rule-based systems should be designed to be highly sensitive, aiming to detect as many true positive cases (fraudulent transactions) as possible.\n",
        "\n",
        "2.Thresholds for classifying transactions as potentially fraudulent should be set in a way that minimizes false negatives, even if it results in an increase in false positives (legitimate transactions being flagged as potentially fraudulent).\n",
        "\n",
        "3.Rapid response mechanisms, such as temporarily blocking or verifying transactions, should be in place for cases flagged as potentially fraudulent to ensure high recall.\n",
        "\n",
        "4.Continuous monitoring and model improvement are critical to adapt to evolving fraud patterns and maintain high recall.\n",
        "\n",
        "In summary, in credit card fraud detection, recall is the most important metric because it ensures that potentially fraudulent transactions are detected and acted upon promptly. Missing a fraudulent transaction can have severe financial and reputational consequences for both financial institutions and cardholders, making high recall a top priority in this context."
      ],
      "metadata": {
        "id": "2PdG4ATNlgnk"
      }
    }
  ]
}